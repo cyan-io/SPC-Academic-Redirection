{
 "cells": [
  {
   "cell_type": "code",
   "execution_count": 1,
   "metadata": {},
   "outputs": [],
   "source": [
    "import requests"
   ]
  },
  {
   "cell_type": "code",
   "execution_count": 2,
   "metadata": {},
   "outputs": [],
   "source": [
    "obj = requests.get(\n",
    "    \"https://wisdom.chaoxing.com/center/doorElecresource/list.action?wfwfid=182&pageno=1&pagesize=1000&sw=&sort=secondsort&classifyid=&selfclassifyid=&choren=&department=&application=&dataType=&core=&layerid=&productid=&leaderid=&providerid=&initial=&scope=&pageType=1\"\n",
    ").json()"
   ]
  },
  {
   "cell_type": "code",
   "execution_count": 3,
   "metadata": {},
   "outputs": [
    {
     "data": {
      "text/plain": [
       "150"
      ]
     },
     "execution_count": 3,
     "metadata": {},
     "output_type": "execute_result"
    }
   ],
   "source": [
    "obj['datas'].__len__()"
   ]
  },
  {
   "cell_type": "code",
   "execution_count": 4,
   "metadata": {},
   "outputs": [
    {
     "data": {
      "text/plain": [
       "dict_keys(['childrenList', 'pinyin', 'newresourceid', 'personalClickNum', 'accesslink', 'secondsort', 'ordernum', 'showDepartment', 'department', 'application', 'documentType', 'token', 'puid', 'id', 'door', 'aid', 'packageCount', 'buyCount', 'name', 'tipname', 'shortName', 'usedName', 'compyname', 'provider', 'compyid', 'productid', 'productName', 'providerid', 'showProvider', 'inOrOutCorp', 'inOrOutCorpId', 'libraryPlatform', 'statisticPlatform', 'payFlag', 'seachDisplay', 'summary', 'providerSummary', 'resourcePlatSummary', 'notes', 'choren', 'showChoren', 'recodeTime', 'paperDelay', 'updateRate', 'showUpdateRate', 'contentLevel', 'showcontentLevel', 'showlayer', 'dataType', 'showDatatype', 'showAllDatatype', 'accessMode', 'showAccessMode', 'accessControl', 'showAccessControl', 'classifyid', 'showClassify', 'secClassifyid', 'showSecClassify', 'esiClassify', 'showEsiClassify', 'jcrClassify', 'showJcrClassify', 'carsiUrl', 'accountPassword', 'concurrentNumber', 'readWay', 'bookAskWay', 'openUrl', 'openUrlIn', 'openUrlOut', 'url', 'urlExplain', 'urlType', 'contactPerson', 'purchaseScheme', 'leadPavilion', 'buyScheme', 'buyMode', 'ckbid', 'recodeSituation', 'trialPeriod', 'showTrialPeriod', 'trialDays', 'keyword', 'curStatus', 'imgurl', 'resourceScore', 'buyStatus', 'inserttime', 'source', 'urls', 'integration', 'integrationDes', 'historyOrderNum', 'money', 'filename', 'showfilename', 'filesize', 'starttime', 'endtime', 'isPurchase', 'resourceCount', 'magcount', 'statusCode', 'exceptionType', 'exceptionTime', 'hangcount', 'flag', 'flagname', 'oriflag', 'collect', 'clicknum', 'clickRankNum', 'todayclicknum', 'databasescore', 'newflag', 'sortbeforeid', 'sortnextid', 'sortid', 'sortnum', 'upnum', 'ishide', 'selfFirstClassifyid', 'selfSecondClassifyid', 'selfThirdClassifyid', 'showSelfFirstClassify', 'showSelfSecondClassify', 'showSelfThirdClassify', 'platFormFirstClassifyid', 'platFormSecondClassifyid', 'platFormThirdClassifyid', 'showPlatFormFirstClassifyid', 'showPlatFormSecondClassifyid', 'showPlatFormThirdClassifyid', 'typeFirstClassifyid', 'typeSecondClassifyid', 'typeThirdClassifyid', 'showTypeFirstClassifyid', 'showTypeSecondClassifyid', 'showTypeThirdClassifyid', 'accessway', 'officialUrl', 'oriDataType', 'status', 'magCecount', 'lspDbId', 'scorepeople', 'avgdatabasescore', 'logourl', 'jxurl', 'type', 'lsp', 'series', 'otherSubject', 'increament', 'othervisit', 'instructions', 'definestate', 'useinstructionsdoclist', 'useinstructionsdoc', 'useinstructionsdocfilename', 'videolist', 'tablelist', 'fujianlist', 'videoname', 'tablename', 'videourl', 'tableurl', 'fujianurl', 'showStateFlag', 'orderCompanyNums', 'purchases', 'score', 'visitNum', 'initial', 'statusSum', 'compyidhe', 'fenleiId', 'preordershow', 'detailinfo', 'usestatistic', 'cloudcom', 'myscore', 'myresourcepakage', 'expertreviewshow', 'usejudgeshow', 'addexpertreview', 'addusejudge', 'proxyUrl', 'customtitle', 'customcontent', 'clickOrderNum', 'lspdeleted', 'mergeDatabase', 'beteenMonth'])"
      ]
     },
     "execution_count": 4,
     "metadata": {},
     "output_type": "execute_result"
    }
   ],
   "source": [
    "obj['datas'][0].keys()"
   ]
  },
  {
   "cell_type": "code",
   "execution_count": 5,
   "metadata": {},
   "outputs": [],
   "source": [
    "urls = [_[\"url\"] for _ in obj[\"datas\"]]\n",
    "urlExplains = [_[\"urlExplain\"] for _ in obj[\"datas\"]]\n",
    "# for i in obj[\"datas\"]:\n",
    "#     print(i[\"url\"], i[\"urlExplain\"])"
   ]
  },
  {
   "cell_type": "code",
   "execution_count": 6,
   "metadata": {},
   "outputs": [],
   "source": [
    "import re\n",
    "urls = set([re.search(\"https?://[^;/]+\", _).group() for _ in urls])\n",
    "urls = [\"// @match        *://\" + _.split(\"//\")[-1] + \"/*\" for _ in urls]"
   ]
  },
  {
   "cell_type": "code",
   "execution_count": 7,
   "metadata": {},
   "outputs": [
    {
     "name": "stdout",
     "output_type": "stream",
     "text": [
      "0 \t // @match        *://www.proquest.com/*\n",
      "1 \t // @match        *://jt.xinyulib.com.cn/*\n",
      "2 \t // @match        *://asmedigitalcollection.asme.org/*\n",
      "3 \t // @match        *://sage.cnpereading.com/*\n",
      "4 \t // @match        *://webofscience.com/*\n",
      "5 \t // @match        *://www.degruyter.com/*\n",
      "6 \t // @match        *://iopscience.iop.org/*\n",
      "7 \t // @match        *://xianxiao.ssap.com.cn/*\n",
      "8 \t // @match        *://portlandpress.com/*\n",
      "9 \t // @match        *://www.cnki.net/*\n",
      "10 \t // @match        *://bg.sunwayinfo.com.cn/*\n",
      "11 \t // @match        *://www.innojoy.com/*\n",
      "12 \t // @match        *://gwbz.sunwayinfo.com.cn/*\n",
      "13 \t // @match        *://cdnsciencepub.com/*\n",
      "14 \t // @match        *://www.bjinfobank.com/*\n",
      "15 \t // @match        *://www.scitation.org/*\n",
      "16 \t // @match        *://library.cmpkgs.com/*\n",
      "17 \t // @match        *://cmkd.hnadl.cn/*\n",
      "18 \t // @match        *://specialsci.cn/*\n",
      "19 \t // @match        *://www.plantcell.org/*\n",
      "20 \t // @match        *://www.annualreviews.org/*\n",
      "21 \t // @match        *://baike.udsim.net/*\n",
      "22 \t // @match        *://www.futuremedicine.com/*\n",
      "23 \t // @match        *://pubs.acs.org/*\n",
      "24 \t // @match        *://paper.hnlat.com/*\n",
      "25 \t // @match        *://search.ebscohost.com/*\n",
      "26 \t // @match        *://cssci.nju.edu.cn/*\n",
      "27 \t // @match        *://www.rdfybk.com/*\n",
      "28 \t // @match        *://www.iresearchbook.cn/*\n",
      "29 \t // @match        *://www.ieslib.com/*\n",
      "30 \t // @match        *://www.hnadl.cn/*\n",
      "31 \t // @match        *://www.patentics.com/*\n",
      "32 \t // @match        *://xwk.test.cqvip.com:8090/*\n",
      "33 \t // @match        *://www.royalsocietypublishing.org/*\n",
      "34 \t // @match        *://www.spiedigitallibrary.org/*\n",
      "35 \t // @match        *://www.ydylcn.com/*\n",
      "36 \t // @match        *://www.htcases.com/*\n",
      "37 \t // @match        *://kg.iguofang.net:8888/*\n",
      "38 \t // @match        *://www.wanfangdata.com.cn/*\n",
      "39 \t // @match        *://epubs.siam.org/*\n",
      "40 \t // @match        *://www.cxstar.com/*\n",
      "41 \t // @match        *://data.lilun.cn/*\n",
      "42 \t // @match        *://bksp.hnadl.cn/*\n",
      "43 \t // @match        *://esi.clarivate.com/*\n",
      "44 \t // @match        *://academic.oup.com/*\n",
      "45 \t // @match        *://www.arabidopsis.org/*\n",
      "46 \t // @match        *://www.emis.cn/*\n",
      "47 \t // @match        *://qikan.cqvip.com/*\n",
      "48 \t // @match        *://www.iwaponline.com/*\n",
      "49 \t // @match        *://www.dachengdata.com/*\n",
      "50 \t // @match        *://onlinelibrary.wiley.com/*\n",
      "51 \t // @match        *://www.global-sci.org/*\n",
      "52 \t // @match        *://journals.sagepub.com/*\n",
      "53 \t // @match        *://www.ajnr.org/*\n",
      "54 \t // @match        *://www.annals.org/*\n",
      "55 \t // @match        *://www.nrcresearchpress.com/*\n",
      "56 \t // @match        *://www.webofknowledge.com/*\n",
      "57 \t // @match        *://suyang.zxhnzq.com/*\n",
      "58 \t // @match        *://www.keledge.com/*\n",
      "59 \t // @match        *://edu.sslibrary.com/*\n",
      "60 \t // @match        *://law.hnadl.cn/*\n",
      "61 \t // @match        *://agupubs.onlinelibrary.wiley.com/*\n",
      "62 \t // @match        *://www.umajor.net/*\n",
      "63 \t // @match        *://lib-nudt.wqxuetang.com/*\n",
      "64 \t // @match        *://uni.resset.com/*\n",
      "65 \t // @match        *://e-learning.51cto.com/*\n",
      "66 \t // @match        *://www.doaj.org/*\n",
      "67 \t // @match        *://www.engineeringvillage.com/*\n",
      "68 \t // @match        *://pubsonline.informs.org/*\n",
      "69 \t // @match        *://www.pqdtcn.com/*\n",
      "70 \t // @match        *://disk.hnadl.cn/*\n",
      "71 \t // @match        *://journals.aps.org/*\n",
      "72 \t // @match        *://arxiv.org/*\n",
      "73 \t // @match        *://www.inoteexpress.com/*\n",
      "74 \t // @match        *://www.neohytung.com/*\n",
      "75 \t // @match        *://arc.aiaa.org/*\n",
      "76 \t // @match        *://sciencechina.cn/*\n",
      "77 \t // @match        *://jcr.clarivate.com/*\n",
      "78 \t // @match        *://fx.gfkd.chaoxing.com/*\n",
      "79 \t // @match        *://www.52met.com/*\n",
      "80 \t // @match        *://www.scopus.com/*\n",
      "81 \t // @match        *://www.bigan.net/*\n",
      "82 \t // @match        *://esajournals.onlinelibrary.wiley.com/*\n",
      "83 \t // @match        *://www.cambridge.org/*\n",
      "84 \t // @match        *://www.bingoenglish.net/*\n",
      "85 \t // @match        *://m-tob.jd.com/*\n",
      "86 \t // @match        *://www.twbxyz.net/*\n",
      "87 \t // @match        *://www.cshlpress.com/*\n",
      "88 \t // @match        *://www.englibrary.com/*\n",
      "89 \t // @match        *://101.201.29.206:8012/*\n",
      "90 \t // @match        *://libfw.nudt.edu.cn/*\n",
      "91 \t // @match        *://www.fenqubiao.com/*\n",
      "92 \t // @match        *://www.MeTeL.cn/*\n",
      "93 \t // @match        *://ieeexplore.ieee.org/*\n",
      "94 \t // @match        *://iopscience.iop.org/*\n",
      "95 \t // @match        *://www.osapublishing.org/*\n",
      "96 \t // @match        *://www.tandfonline.com/*\n",
      "97 \t // @match        *://www.healthaffairs.org/*\n",
      "98 \t // @match        *://www.cshprotocols.org/*\n",
      "99 \t // @match        *://www.51sjsj.com/*\n",
      "100 \t // @match        *://thesis.library.caltech.edu/*\n",
      "101 \t // @match        *://www.pnas.org/*\n",
      "102 \t // @match        *://pubs.rsna.org/*\n",
      "103 \t // @match        *://www.nejm.org/*\n",
      "104 \t // @match        *://www.vipexam.cn/*\n",
      "105 \t // @match        *://incites.clarivate.com/*\n",
      "106 \t // @match        *://www.oadds.cn/*\n",
      "107 \t // @match        *://www.sciencedirect.com/*\n",
      "108 \t // @match        *://www.duxiu.com/*\n",
      "109 \t // @match        *://scifund.wanfangdata.com.cn/*\n",
      "110 \t // @match        *://elibrary.asabe.org/*\n",
      "111 \t // @match        *://aspb.org/*\n",
      "112 \t // @match        *://janes.cinfo.net.cn/*\n",
      "113 \t // @match        *://link.springer.com/*\n",
      "114 \t // @match        *://www.emerald.com/*\n",
      "115 \t // @match        *://cadal.edu.cn/*\n",
      "116 \t // @match        *://www.sciencemag.org/*\n",
      "117 \t // @match        *://www.cashl.edu.cn/*\n",
      "118 \t // @match        *://link.gale.com/*\n",
      "119 \t // @match        *://www.nature.com/*\n",
      "120 \t // @match        *://olap.epsnet.com.cn/*\n",
      "121 \t // @match        *://dl.acm.org/*\n",
      "122 \t // @match        *://ssvideo.chaoxing.com/*\n",
      "123 \t // @match        *://journals.ametsoc.org/*\n",
      "124 \t // @match        *://www.jstor.org/*\n",
      "125 \t // @match        *://navi.ion.org/*\n",
      "126 \t // @match        *://www.scival.com/*\n"
     ]
    }
   ],
   "source": [
    "with open(\"match.txt\", \"w\", encoding=\"utf-8\") as _:\n",
    "    for i, url in enumerate(urls):\n",
    "        _.write(url + \"\\n\")\n",
    "        print(i, \"\\t\", url)"
   ]
  },
  {
   "cell_type": "code",
   "execution_count": null,
   "metadata": {},
   "outputs": [],
   "source": []
  }
 ],
 "metadata": {
  "kernelspec": {
   "display_name": "net",
   "language": "python",
   "name": "python3"
  },
  "language_info": {
   "codemirror_mode": {
    "name": "ipython",
    "version": 3
   },
   "file_extension": ".py",
   "mimetype": "text/x-python",
   "name": "python",
   "nbconvert_exporter": "python",
   "pygments_lexer": "ipython3",
   "version": "3.11.9"
  }
 },
 "nbformat": 4,
 "nbformat_minor": 2
}
